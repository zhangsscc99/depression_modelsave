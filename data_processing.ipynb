{
 "cells": [
  {
   "cell_type": "code",
   "execution_count": 2,
   "metadata": {},
   "outputs": [],
   "source": [
    "import cv2\n",
    "import os\n",
    "vidcap = cv2.VideoCapture('/Users/mac/Desktop/implementation_depression/AV2014_Training_data_NYU/Training/Freeform/203_1_Freeform_video.mp4')\n",
    "def getFrame(sec):\n",
    "    vidcap.set(cv2.CAP_PROP_POS_MSEC,sec*1000)\n",
    "    hasFrames,image = vidcap.read()\n",
    "    if hasFrames:\n",
    "        \n",
    "        cv2.imwrite(\"/Users/mac/Desktop/implementation_depression/AV2014_Training_data_NYU/Testing/images/\"+str(count)+\".jpg\", image)     # save frame as JPG file\n",
    "    return hasFrames\n",
    "sec = 0\n",
    "frameRate = 0.5 #//it will capture image in each 0.5 second\n",
    "count=1\n",
    "success = getFrame(sec)\n",
    "while success:\n",
    "    count = count + 1\n",
    "    sec = sec + frameRate\n",
    "    sec = round(sec, 2)\n",
    "    success = getFrame(sec)"
   ]
  },
  {
   "cell_type": "code",
   "execution_count": 3,
   "metadata": {},
   "outputs": [],
   "source": [
    "filenames = os.listdir(r\"/Users/mac/Desktop/implementation_depression/AV2014_Training_data_NYU/Training/Freeform\")\n",
    "filenames2 = os.listdir(r\"/Users/mac/Desktop/implementation_depression/AV2014_Training_data_NYU/Training/Northwind\")"
   ]
  },
  {
   "cell_type": "code",
   "execution_count": 4,
   "metadata": {},
   "outputs": [
    {
     "name": "stdout",
     "output_type": "stream",
     "text": [
      "50\n",
      "50\n"
     ]
    }
   ],
   "source": [
    "print(len(filenames))\n",
    "print(len(filenames2))"
   ]
  },
  {
   "cell_type": "code",
   "execution_count": 5,
   "metadata": {},
   "outputs": [],
   "source": [
    "filenames=sorted(filenames)\n",
    "filenames2=sorted(filenames2)"
   ]
  },
  {
   "cell_type": "code",
   "execution_count": 7,
   "metadata": {},
   "outputs": [],
   "source": [
    "#filenames"
   ]
  },
  {
   "cell_type": "code",
   "execution_count": 22,
   "metadata": {},
   "outputs": [],
   "source": [
    "#filenames"
   ]
  },
  {
   "cell_type": "code",
   "execution_count": 6,
   "metadata": {},
   "outputs": [],
   "source": [
    "filenames_train=filenames[:35]\n",
    "filenames_test=filenames[35:]\n",
    "filenames2_train=filenames2[:35]\n",
    "filenames2_test=filenames2[35:]"
   ]
  },
  {
   "cell_type": "code",
   "execution_count": 7,
   "metadata": {},
   "outputs": [
    {
     "name": "stdout",
     "output_type": "stream",
     "text": [
      "['203_1_Northwind_video.mp4', '205_2_Northwind_video.mp4', '207_2_Northwind_video.mp4', '208_2_Northwind_video.mp4', '209_1_Northwind_video.mp4', '213_1_Northwind_video.mp4', '214_1_Northwind_video.mp4', '215_2_Northwind_video.mp4', '215_3_Northwind_video.mp4', '217_2_Northwind_video.mp4', '217_3_Northwind_video.mp4', '219_1_Northwind_video.mp4', '219_3_Northwind_video.mp4', '223_1_Northwind_video.mp4', '223_2_Northwind_video.mp4', '225_2_Northwind_video.mp4', '226_1_Northwind_video.mp4', '227_2_Northwind_video.mp4', '228_1_Northwind_video.mp4', '229_2_Northwind_video.mp4', '230_1_Northwind_video.mp4', '232_1_Northwind_video.mp4', '233_1_Northwind_video.mp4', '234_3_Northwind_video.mp4', '236_1_Northwind_video.mp4', '237_3_Northwind_video.mp4', '238_2_Northwind_video.mp4', '239_1_Northwind_video.mp4', '240_1_Northwind_video.mp4', '240_2_Northwind_video.mp4', '241_2_Northwind_video.mp4', '242_3_Northwind_video.mp4', '243_1_Northwind_video.mp4', '306_3_Northwind_video.mp4', '308_3_Northwind_video.mp4']\n"
     ]
    }
   ],
   "source": [
    "print(filenames2_train)\n"
   ]
  },
  {
   "cell_type": "code",
   "execution_count": 14,
   "metadata": {},
   "outputs": [
    {
     "data": {
      "text/plain": [
       "70"
      ]
     },
     "execution_count": 14,
     "metadata": {},
     "output_type": "execute_result"
    }
   ],
   "source": [
    "filenames3_train=filenames_train+filenames2_train\n",
    "len(filenames3_train)"
   ]
  },
  {
   "cell_type": "code",
   "execution_count": 20,
   "metadata": {},
   "outputs": [
    {
     "data": {
      "text/plain": [
       "30"
      ]
     },
     "execution_count": 20,
     "metadata": {},
     "output_type": "execute_result"
    }
   ],
   "source": [
    "filenames3_test=filenames_test+filenames2_test\n",
    "len(filenames3_test)"
   ]
  },
  {
   "cell_type": "code",
   "execution_count": 10,
   "metadata": {},
   "outputs": [
    {
     "data": {
      "text/plain": [
       "'\\nimport os\\ndirName=\"C:\\\\Users\\\\zhang\\\\Downloads\\\\githubdepression\\\\githubdepression\\\\implementation\\\\AV2014_Training_data_NYU\\\\Training\\\\images\"\\nfor i in range(70):\\n    os.mkdir(dirName+\"\\\\\"+str(i))\\n'"
      ]
     },
     "execution_count": 10,
     "metadata": {},
     "output_type": "execute_result"
    }
   ],
   "source": [
    "\"\"\"\n",
    "import os\n",
    "dirName=\"C:\\\\Users\\\\zhang\\\\Downloads\\\\githubdepression\\\\githubdepression\\\\implementation\\\\AV2014_Training_data_NYU\\\\Training\\\\images\"\n",
    "for i in range(70):\n",
    "    os.mkdir(dirName+\"\\\\\"+str(i))\n",
    "\"\"\""
   ]
  },
  {
   "cell_type": "code",
   "execution_count": 9,
   "metadata": {},
   "outputs": [
    {
     "name": "stdout",
     "output_type": "stream",
     "text": [
      "['203_1_Depression.csv', '205_2_Depression.csv', '207_2_Depression.csv', '208_2_Depression.csv', '209_1_Depression.csv', '213_1_Depression.csv', '214_1_Depression.csv', '215_2_Depression.csv', '215_3_Depression.csv', '217_2_Depression.csv', '217_3_Depression.csv', '219_1_Depression.csv', '219_3_Depression.csv', '223_1_Depression.csv', '223_2_Depression.csv', '225_2_Depression.csv', '226_1_Depression.csv', '227_2_Depression.csv', '228_1_Depression.csv', '229_2_Depression.csv', '230_1_Depression.csv', '232_1_Depression.csv', '233_1_Depression.csv', '234_3_Depression.csv', '236_1_Depression.csv', '237_3_Depression.csv', '238_2_Depression.csv', '239_1_Depression.csv', '240_1_Depression.csv', '240_2_Depression.csv', '241_2_Depression.csv', '242_3_Depression.csv', '243_1_Depression.csv', '306_3_Depression.csv', '308_3_Depression.csv', '310_4_Depression.csv', '312_2_Depression.csv', '317_1_Depression.csv', '317_3_Depression.csv', '318_2_Depression.csv', '318_3_Depression.csv', '320_1_Depression.csv', '320_2_Depression.csv', '321_2_Depression.csv', '322_1_Depression.csv', '324_1_Depression.csv', '329_1_Depression.csv', '331_1_Depression.csv', '332_2_Depression.csv', '332_4_Depression.csv']\n",
      "['3', '3', '10', '4', '6', '33', '11', '9', '5', '30', '32', '33', '19', '0', '0', '15', '35', '13', '1', '17', '20', '10', '4', '23', '23', '37', '37', '22', '14', '16', '44', '9', '41', '19', '21', '19', '0', '24', '17', '12', '7', '3', '8', '11', '0', '0', '24', '5', '2', '0']\n"
     ]
    }
   ],
   "source": [
    "#reading labels\n",
    "import os\n",
    "\n",
    "labels= os.listdir(r'/Users/mac/Desktop/implementation 23-57-06-709/AV2014_Training_data_NYU/Training_DepressionLabels')\n",
    "labels=sorted(labels)\n",
    "#print(labels)\n",
    "score_lst=[]\n",
    "for i in range(len(labels)):\n",
    "    with open('/Users/mac/Desktop/implementation 23-57-06-709/AV2014_Training_data_NYU/Training_DepressionLabels/'+labels[i],'r') as f:\n",
    "        score_lst.append(f.readline()[:-1])\n",
    "print(labels)\n",
    "print(score_lst)"
   ]
  },
  {
   "cell_type": "code",
   "execution_count": 14,
   "metadata": {},
   "outputs": [
    {
     "data": {
      "text/plain": [
       "50"
      ]
     },
     "execution_count": 14,
     "metadata": {},
     "output_type": "execute_result"
    }
   ],
   "source": [
    "len(score_lst)"
   ]
  },
  {
   "cell_type": "code",
   "execution_count": null,
   "metadata": {},
   "outputs": [],
   "source": []
  },
  {
   "cell_type": "code",
   "execution_count": 13,
   "metadata": {},
   "outputs": [
    {
     "name": "stdout",
     "output_type": "stream",
     "text": [
      "1\n",
      "1\n"
     ]
    }
   ],
   "source": [
    "D={'1':'1','2':'1','3':'1'}\n",
    "print(D['1'])\n",
    "print(D['2'])\n"
   ]
  },
  {
   "cell_type": "code",
   "execution_count": 14,
   "metadata": {},
   "outputs": [],
   "source": [
    "import os\n",
    "def create(addr):\n",
    "    for i in range(1,100):#范围是你需要的数字范围，我创建的是名为1~50的文件夹\n",
    "        os.makedirs(addr+'/'+str(i))#str(i)前后可加你需要的前缀和后缀\n",
    "addr = '/Users/mac/Desktop/implementation_depression/AV2014_Training_data_NYU/newTraining'#你需要创建文件夹的目录\n",
    "create(addr)"
   ]
  },
  {
   "cell_type": "code",
   "execution_count": 16,
   "metadata": {},
   "outputs": [],
   "source": [
    "import os\n",
    "def create(addr):\n",
    "    for i in range(1,100):#范围是你需要的数字范围，我创建的是名为1~50的文件夹\n",
    "        os.makedirs(addr+'/'+str(i))#str(i)前后可加你需要的前缀和后缀\n",
    "addr = '/Users/mac/Desktop/implementation_depression/AV2014_Training_data_NYU/newTesting'#你需要创建文件夹的目录\n",
    "create(addr)"
   ]
  },
  {
   "cell_type": "code",
   "execution_count": 17,
   "metadata": {},
   "outputs": [
    {
     "data": {
      "text/plain": [
       "['203_1_Freeform_video.mp4',\n",
       " '205_2_Freeform_video.mp4',\n",
       " '207_2_Freeform_video.mp4',\n",
       " '208_2_Freeform_video.mp4',\n",
       " '209_1_Freeform_video.mp4',\n",
       " '213_1_Freeform_video.mp4',\n",
       " '214_1_Freeform_video.mp4',\n",
       " '215_2_Freeform_video.mp4',\n",
       " '215_3_Freeform_video.mp4',\n",
       " '217_2_Freeform_video.mp4',\n",
       " '217_3_Freeform_video.mp4',\n",
       " '219_1_Freeform_video.mp4',\n",
       " '219_3_Freeform_video.mp4',\n",
       " '223_1_Freeform_video.mp4',\n",
       " '223_2_Freeform_video.mp4',\n",
       " '225_2_Freeform_video.mp4',\n",
       " '226_1_Freeform_video.mp4',\n",
       " '227_2_Freeform_video.mp4',\n",
       " '228_1_Freeform_video.mp4',\n",
       " '229_2_Freeform_video.mp4',\n",
       " '230_1_Freeform_video.mp4',\n",
       " '232_1_Freeform_video.mp4',\n",
       " '233_1_Freeform_video.mp4',\n",
       " '234_3_Freeform_video.mp4',\n",
       " '236_1_Freeform_video.mp4',\n",
       " '237_3_Freeform_video.mp4',\n",
       " '238_2_Freeform_video.mp4',\n",
       " '239_1_Freeform_video.mp4',\n",
       " '240_1_Freeform_video.mp4',\n",
       " '240_2_Freeform_video.mp4',\n",
       " '241_2_Freeform_video.mp4',\n",
       " '242_3_Freeform_video.mp4',\n",
       " '243_1_Freeform_video.mp4',\n",
       " '306_3_Freeform_video.mp4',\n",
       " '308_3_Freeform_video.mp4',\n",
       " '310_4_Freeform_video.mp4',\n",
       " '312_2_Freeform_video.mp4',\n",
       " '317_1_Freeform_video.mp4',\n",
       " '317_3_Freeform_video.mp4',\n",
       " '318_2_Freeform_video.mp4',\n",
       " '318_3_Freeform_video.mp4',\n",
       " '320_1_Freeform_video.mp4',\n",
       " '320_2_Freeform_video.mp4',\n",
       " '321_2_Freeform_video.mp4',\n",
       " '322_1_Freeform_video.mp4',\n",
       " '324_1_Freeform_video.mp4',\n",
       " '329_1_Freeform_video.mp4',\n",
       " '331_1_Freeform_video.mp4',\n",
       " '332_2_Freeform_video.mp4',\n",
       " '332_4_Freeform_video.mp4']"
      ]
     },
     "execution_count": 17,
     "metadata": {},
     "output_type": "execute_result"
    }
   ],
   "source": [
    "filenames"
   ]
  },
  {
   "cell_type": "code",
   "execution_count": 15,
   "metadata": {},
   "outputs": [],
   "source": [
    "#created 70 labels for this\n",
    "import cv2\n",
    "import os\n",
    "#vidcap = cv2.VideoCapture('/Users/mac/Desktop/githubdepression/implementation/AV2014_Training_data_NYU/Training/Freeform/203_1_Freeform_video.mp4')\n",
    "def getFrame(sec,vidcap,i,count):\n",
    "    count=count\n",
    "    vidcap.set(cv2.CAP_PROP_POS_MSEC,sec*1000)\n",
    "    hasFrames,image = vidcap.read()\n",
    "    if hasFrames:\n",
    "\n",
    "        \n",
    "        cv2.imwrite(\"/Users/mac/Desktop/implementation_depression/AV2014_Training_data_NYU/newTraining/\"+str(i)+'/'+str(count)+\".jpg\", image)     # save frame as JPG file\n",
    "    #cv2.imwrite(\"/Users/mac/Desktop/implementation_depression/AV2014_Training_data_NYU/newTraining/\"+str(i)+'/'+str(count)+\".jpg\", image)     # save frame as JPG file\n",
    "    \n",
    "    return hasFrames\n",
    "def helper(vidcap,i):\n",
    "    vidcap=vidcap\n",
    "    sec = 0\n",
    "    frameRate = 0.5 #//it will capture image in each 0.5 second\n",
    "    count=1\n",
    "    success = getFrame(sec,vidcap,i,count)\n",
    "    while success:\n",
    "        count = count + 1\n",
    "        sec = sec + frameRate\n",
    "        sec = round(sec, 2)\n",
    "        success = getFrame(sec,vidcap,i,count)\n",
    "\n",
    "\n",
    "for i in range(50):\n",
    "    vidcap=cv2.VideoCapture('/Users/mac/Desktop/implementation_depression/AV2014_Training_data_NYU/Training/Freeform/'+filenames[i])\n",
    "    helper(vidcap,i)\n",
    "#for i in range(50):\n",
    "#    vidcap=cv2.VideoCapture('C:\\\\Users\\\\zhang\\\\Downloads\\\\githubdepression\\\\githubdepression\\\\implementation\\\\AV2014_Training_data_NYU\\\\Training\\\\Northwind\\\\'+filenames2[i])\n",
    "#    helper(vidcap,i)\n",
    "\n"
   ]
  },
  {
   "cell_type": "code",
   "execution_count": 18,
   "metadata": {},
   "outputs": [],
   "source": [
    "\"\"\"\n",
    "import os\n",
    "dirName=\"C:\\\\Users\\\\zhang\\\\Downloads\\\\githubdepression\\\\githubdepression\\\\implementation\\\\AV2014_Training_data_NYU\\\\Testing\\\\images\"\n",
    "for i in range(30):\n",
    "    os.mkdir(dirName+\"\\\\\"+str(i))\n",
    "\"\"\""
   ]
  },
  {
   "cell_type": "code",
   "execution_count": null,
   "metadata": {},
   "outputs": [],
   "source": [
    "import cv2\n",
    "import os\n",
    "#vidcap = cv2.VideoCapture('/Users/mac/Desktop/githubdepression/implementation/AV2014_Training_data_NYU/Training/Freeform/203_1_Freeform_video.mp4')\n",
    "def getFrame2(sec,vidcap,i,count):\n",
    "    count=count\n",
    "    vidcap.set(cv2.CAP_PROP_POS_MSEC,sec*1000)\n",
    "    hasFrames,image = vidcap.read()\n",
    "    if hasFrames:\n",
    "        \n",
    "        cv2.imwrite(\"/Users/mac/Desktop/implementation_depression/AV2014_Training_data_NYU/newTesting/\"+str(i)+'/'+str(count)+\".jpg\", image)     # save frame as JPG file\n",
    "    return hasFrames\n",
    "def helper2(vidcap,i):\n",
    "    vidcap=vidcap\n",
    "    sec = 0\n",
    "    frameRate = 0.5 #//it will capture image in each 0.5 second\n",
    "    count=1\n",
    "    success = getFrame2(sec,vidcap,i,count)\n",
    "    while success:\n",
    "        count = count + 1\n",
    "        sec = sec + frameRate\n",
    "        sec = round(sec, 2)\n",
    "        success = getFrame2(sec,vidcap,i,count)\n",
    "\n",
    "\n",
    "\n",
    "\n",
    "for i in range(15):\n",
    "    vidcap=cv2.VideoCapture('C:\\\\Users\\\\zhang\\\\Downloads\\\\githubdepression\\\\githubdepression\\\\implementation\\\\AV2014_Training_data_NYU\\\\Training\\\\Freeform\\\\'+filenames3_test[i])\n",
    "    helper2(vidcap,i)\n",
    "for i in range(50):\n",
    "    vidcap=cv2.VideoCapture('C:\\\\Users\\\\zhang\\\\Downloads\\\\githubdepression\\\\githubdepression\\\\implementation\\\\AV2014_Training_data_NYU\\\\Training\\\\Northwind\\\\'+filenames2[i])\n",
    "    helper2(vidcap,i)"
   ]
  },
  {
   "cell_type": "code",
   "execution_count": null,
   "metadata": {},
   "outputs": [],
   "source": []
  },
  {
   "cell_type": "code",
   "execution_count": null,
   "metadata": {},
   "outputs": [],
   "source": [
    "import os \n"
   ]
  },
  {
   "cell_type": "code",
   "execution_count": null,
   "metadata": {},
   "outputs": [],
   "source": []
  }
 ],
 "metadata": {
  "kernelspec": {
   "display_name": "Python 3.8.5 ('base')",
   "language": "python",
   "name": "python3"
  },
  "language_info": {
   "codemirror_mode": {
    "name": "ipython",
    "version": 3
   },
   "file_extension": ".py",
   "mimetype": "text/x-python",
   "name": "python",
   "nbconvert_exporter": "python",
   "pygments_lexer": "ipython3",
   "version": "3.8.5"
  },
  "vscode": {
   "interpreter": {
    "hash": "40d3a090f54c6569ab1632332b64b2c03c39dcf918b08424e98f38b5ae0af88f"
   }
  }
 },
 "nbformat": 4,
 "nbformat_minor": 4
}
